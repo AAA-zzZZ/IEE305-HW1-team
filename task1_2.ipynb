{
 "cells": [
  {
   "cell_type": "code",
   "execution_count": null,
   "metadata": {},
   "outputs": [],
   "source": [
    "import requests\n",
    "from IPython.display import display\n",
    "\n",
    "url = \"http://api.weather.gov/radar/stations?stationType=WSR-88D\"\n",
    "response = requests.get(url)\n",
    "\n",
    "data=response.json()\n",
    "display(data[\"features\"])\n"
   ]
  },
  {
   "cell_type": "code",
   "execution_count": 6,
   "metadata": {},
   "outputs": [
    {
     "name": "stdout",
     "output_type": "stream",
     "text": [
      "Requirement already satisfied: cartopy in f:\\anaconda3\\envs\\iee305\\lib\\site-packages (0.24.1)\n",
      "Requirement already satisfied: numpy>=1.23 in f:\\anaconda3\\envs\\iee305\\lib\\site-packages (from cartopy) (2.2.2)\n",
      "Requirement already satisfied: matplotlib>=3.6 in f:\\anaconda3\\envs\\iee305\\lib\\site-packages (from cartopy) (3.10.0)\n",
      "Requirement already satisfied: shapely>=1.8 in f:\\anaconda3\\envs\\iee305\\lib\\site-packages (from cartopy) (2.0.7)\n",
      "Requirement already satisfied: packaging>=21 in f:\\anaconda3\\envs\\iee305\\lib\\site-packages (from cartopy) (24.2)\n",
      "Requirement already satisfied: pyshp>=2.3 in f:\\anaconda3\\envs\\iee305\\lib\\site-packages (from cartopy) (2.3.1)\n",
      "Requirement already satisfied: pyproj>=3.3.1 in f:\\anaconda3\\envs\\iee305\\lib\\site-packages (from cartopy) (3.7.0)\n",
      "Requirement already satisfied: contourpy>=1.0.1 in f:\\anaconda3\\envs\\iee305\\lib\\site-packages (from matplotlib>=3.6->cartopy) (1.3.1)\n",
      "Requirement already satisfied: cycler>=0.10 in f:\\anaconda3\\envs\\iee305\\lib\\site-packages (from matplotlib>=3.6->cartopy) (0.12.1)\n",
      "Requirement already satisfied: fonttools>=4.22.0 in f:\\anaconda3\\envs\\iee305\\lib\\site-packages (from matplotlib>=3.6->cartopy) (4.55.8)\n",
      "Requirement already satisfied: kiwisolver>=1.3.1 in f:\\anaconda3\\envs\\iee305\\lib\\site-packages (from matplotlib>=3.6->cartopy) (1.4.8)\n",
      "Requirement already satisfied: pillow>=8 in f:\\anaconda3\\envs\\iee305\\lib\\site-packages (from matplotlib>=3.6->cartopy) (11.1.0)\n",
      "Requirement already satisfied: pyparsing>=2.3.1 in f:\\anaconda3\\envs\\iee305\\lib\\site-packages (from matplotlib>=3.6->cartopy) (3.2.1)\n",
      "Requirement already satisfied: python-dateutil>=2.7 in f:\\anaconda3\\envs\\iee305\\lib\\site-packages (from matplotlib>=3.6->cartopy) (2.9.0.post0)\n",
      "Requirement already satisfied: certifi in f:\\anaconda3\\envs\\iee305\\lib\\site-packages (from pyproj>=3.3.1->cartopy) (2024.12.14)\n",
      "Requirement already satisfied: six>=1.5 in f:\\anaconda3\\envs\\iee305\\lib\\site-packages (from python-dateutil>=2.7->matplotlib>=3.6->cartopy) (1.17.0)\n",
      "Note: you may need to restart the kernel to use updated packages.\n"
     ]
    },
    {
     "data": {
      "text/plain": [
       "<cartopy.mpl.feature_artist.FeatureArtist at 0x2958deb2420>"
      ]
     },
     "execution_count": 6,
     "metadata": {},
     "output_type": "execute_result"
    },
    {
     "data": {
      "image/png": "[encoded data removed]",
      "text/plain": [
       "<Figure size 640x480 with 1 Axes>"
      ]
     },
     "metadata": {},
     "output_type": "display_data"
    }
   ],
   "source": [
    "import requests\n",
    "import geopandas as gpd\n",
    "from shapely.geometry import Point\n",
    "\n",
    "url = \"http://api.weather.gov/radar/stations?stationType=WSR-88D\"\n",
    "response = requests.get(url)\n",
    "data=response.json()\n",
    "\n",
    "gdf=gpd.GeoDataFrame.from_features(data)\n",
    "\n",
    "%pip install cartopy\n",
    "import matplotlib.pyplot as plt\n",
    "import cartopy.crs as ccrs\n",
    "import cartopy.feature as cfeature\n",
    "\n",
    "fig= plt.figure()\n",
    "ax = fig.add_subplot(projection = ccrs.PlateCarree())\n",
    "gdf.plot(ax=ax)\n",
    "ax.coastlines()"
   ]
  },
  {
   "cell_type": "code",
   "execution_count": null,
   "metadata": {},
   "outputs": [],
   "source": [
    "import requests\n",
    "\n",
    "url = \"http://api.weather.gov/radar/stations\"\n",
    "response = requests.get(url)\n",
    "\n",
    "data=response.json()\n",
    "display(response.request.method)\n",
    "display(response.request.url)\n",
    "display(data[\"features\"][129])"
   ]
  },
  {
   "cell_type": "code",
   "execution_count": 12,
   "metadata": {},
   "outputs": [
    {
     "data": {
      "text/plain": [
       "'GET'"
      ]
     },
     "metadata": {},
     "output_type": "display_data"
    },
    {
     "data": {
      "text/plain": [
       "<Response [200]>"
      ]
     },
     "metadata": {},
     "output_type": "display_data"
    },
    {
     "data": {
      "text/plain": [
       "'https://api.weather.gov/zones?type=forecast&point=33.423529473675984,-111.93556942389473'"
      ]
     },
     "metadata": {},
     "output_type": "display_data"
    }
   ],
   "source": [
    "import requests\n",
    "url = \"http://api.weather.gov/zones?type=forecast&point=33.423529473675984,-111.93556942389473\"\n",
    "response = requests.get(url)\n",
    "\n",
    "data=response.json()\n",
    "display(response.request.method)\n",
    "display(response)\n",
    "display(response.request.url)"
   ]
  },
  {
   "cell_type": "code",
   "execution_count": 15,
   "metadata": {},
   "outputs": [
    {
     "data": {
      "text/html": [
       "<div>\n",
       "<style scoped>\n",
       "    .dataframe tbody tr th:only-of-type {\n",
       "        vertical-align: middle;\n",
       "    }\n",
       "\n",
       "    .dataframe tbody tr th {\n",
       "        vertical-align: top;\n",
       "    }\n",
       "\n",
       "    .dataframe thead th {\n",
       "        text-align: right;\n",
       "    }\n",
       "</style>\n",
       "<table border=\"1\" class=\"dataframe\">\n",
       "  <thead>\n",
       "    <tr style=\"text-align: right;\">\n",
       "      <th></th>\n",
       "      <th>number</th>\n",
       "      <th>name</th>\n",
       "      <th>detailedForecast</th>\n",
       "    </tr>\n",
       "  </thead>\n",
       "  <tbody>\n",
       "    <tr>\n",
       "      <th>0</th>\n",
       "      <td>1</td>\n",
       "      <td>Tonight</td>\n",
       "      <td>Clear. Lows 43 to 50. Light wind.</td>\n",
       "    </tr>\n",
       "    <tr>\n",
       "      <th>1</th>\n",
       "      <td>2</td>\n",
       "      <td>Sunday</td>\n",
       "      <td>Sunny and warmer. Highs 76 to 81. East wind ar...</td>\n",
       "    </tr>\n",
       "    <tr>\n",
       "      <th>2</th>\n",
       "      <td>3</td>\n",
       "      <td>Sunday Night</td>\n",
       "      <td>Clear. Lows 46 to 54. Northeast wind around 5 ...</td>\n",
       "    </tr>\n",
       "    <tr>\n",
       "      <th>3</th>\n",
       "      <td>4</td>\n",
       "      <td>Monday</td>\n",
       "      <td>Partly sunny. Highs 80 to 85. East wind 5 to 1...</td>\n",
       "    </tr>\n",
       "    <tr>\n",
       "      <th>4</th>\n",
       "      <td>5</td>\n",
       "      <td>Monday Night</td>\n",
       "      <td>Partly cloudy. Lows 50 to 57. Light wind.</td>\n",
       "    </tr>\n",
       "    <tr>\n",
       "      <th>5</th>\n",
       "      <td>6</td>\n",
       "      <td>Tuesday</td>\n",
       "      <td>Partly sunny in the morning then becoming sunn...</td>\n",
       "    </tr>\n",
       "    <tr>\n",
       "      <th>6</th>\n",
       "      <td>7</td>\n",
       "      <td>Tuesday Night</td>\n",
       "      <td>Clear. Lows 46 to 53.</td>\n",
       "    </tr>\n",
       "    <tr>\n",
       "      <th>7</th>\n",
       "      <td>8</td>\n",
       "      <td>Wednesday</td>\n",
       "      <td>Sunny and cooler. Highs 74 to 79.</td>\n",
       "    </tr>\n",
       "    <tr>\n",
       "      <th>8</th>\n",
       "      <td>9</td>\n",
       "      <td>Wednesday Night</td>\n",
       "      <td>Clear. Lows 46 to 53.</td>\n",
       "    </tr>\n",
       "    <tr>\n",
       "      <th>9</th>\n",
       "      <td>10</td>\n",
       "      <td>Thursday</td>\n",
       "      <td>Mostly sunny. Highs 75 to 81.</td>\n",
       "    </tr>\n",
       "    <tr>\n",
       "      <th>10</th>\n",
       "      <td>11</td>\n",
       "      <td>Thursday Night</td>\n",
       "      <td>Partly cloudy. Lows 46 to 52.</td>\n",
       "    </tr>\n",
       "    <tr>\n",
       "      <th>11</th>\n",
       "      <td>12</td>\n",
       "      <td>Friday</td>\n",
       "      <td>Partly sunny. Highs 74 to 80.</td>\n",
       "    </tr>\n",
       "    <tr>\n",
       "      <th>12</th>\n",
       "      <td>13</td>\n",
       "      <td>Friday Night</td>\n",
       "      <td>Mostly clear. Lows 45 to 52.</td>\n",
       "    </tr>\n",
       "    <tr>\n",
       "      <th>13</th>\n",
       "      <td>14</td>\n",
       "      <td>Saturday</td>\n",
       "      <td>Mostly sunny. Highs 73 to 79.</td>\n",
       "    </tr>\n",
       "  </tbody>\n",
       "</table>\n",
       "</div>"
      ],
      "text/plain": [
       "    number             name                                   detailedForecast\n",
       "0        1          Tonight                  Clear. Lows 43 to 50. Light wind.\n",
       "1        2           Sunday  Sunny and warmer. Highs 76 to 81. East wind ar...\n",
       "2        3     Sunday Night  Clear. Lows 46 to 54. Northeast wind around 5 ...\n",
       "3        4           Monday  Partly sunny. Highs 80 to 85. East wind 5 to 1...\n",
       "4        5     Monday Night          Partly cloudy. Lows 50 to 57. Light wind.\n",
       "5        6          Tuesday  Partly sunny in the morning then becoming sunn...\n",
       "6        7    Tuesday Night                              Clear. Lows 46 to 53.\n",
       "7        8        Wednesday                  Sunny and cooler. Highs 74 to 79.\n",
       "8        9  Wednesday Night                              Clear. Lows 46 to 53.\n",
       "9       10         Thursday                      Mostly sunny. Highs 75 to 81.\n",
       "10      11   Thursday Night                      Partly cloudy. Lows 46 to 52.\n",
       "11      12           Friday                      Partly sunny. Highs 74 to 80.\n",
       "12      13     Friday Night                       Mostly clear. Lows 45 to 52.\n",
       "13      14         Saturday                      Mostly sunny. Highs 73 to 79."
      ]
     },
     "execution_count": 15,
     "metadata": {},
     "output_type": "execute_result"
    }
   ],
   "source": [
    "import requests\n",
    "import geopandas as gpd\n",
    "\n",
    "url = \"http://api.weather.gov/zones/public/AZZ548/forecast\"\n",
    "response = requests.get(url)\n",
    "new_data=response.json()\n",
    "forecast_periods=new_data[\"properties\"][\"periods\"]\n",
    "gpd.GeoDataFrame(forecast_periods,geometry=None)"
   ]
  }
 ],
 "metadata": {
  "kernelspec": {
   "display_name": "IEE305",
   "language": "python",
   "name": "python3"
  },
  "language_info": {
   "codemirror_mode": {
    "name": "ipython",
    "version": 3
   },
   "file_extension": ".py",
   "mimetype": "text/x-python",
   "name": "python",
   "nbconvert_exporter": "python",
   "pygments_lexer": "ipython3",
   "version": "3.12.8"
  }
 },
 "nbformat": 4,
 "nbformat_minor": 2
}
